{
 "cells": [
  {
   "cell_type": "code",
   "execution_count": null,
   "id": "2b3db513",
   "metadata": {},
   "outputs": [],
   "source": [
    "import cv2\n",
    "import numpy as np\n",
    "from glob import glob\n",
    "import pandas as pd\n",
    "from matplotlib import pyplot as plt"
   ]
  },
  {
   "cell_type": "code",
   "execution_count": null,
   "id": "71b35409",
   "metadata": {},
   "outputs": [],
   "source": [
    "from scipy.ndimage import interpolation as inter"
   ]
  },
  {
   "cell_type": "code",
   "execution_count": null,
   "id": "a80fb3fd",
   "metadata": {},
   "outputs": [],
   "source": [
    "pic=glob('images/*.jpg')"
   ]
  },
  {
   "cell_type": "code",
   "execution_count": null,
   "id": "dd399f66",
   "metadata": {},
   "outputs": [],
   "source": [
    "img=cv2.imread(pic[0])\n"
   ]
  },
  {
   "cell_type": "code",
   "execution_count": null,
   "id": "997d3866",
   "metadata": {},
   "outputs": [],
   "source": [
    "img.shape"
   ]
  },
  {
   "cell_type": "code",
   "execution_count": null,
   "id": "259865e9",
   "metadata": {},
   "outputs": [],
   "source": [
    "plt.imshow(img)"
   ]
  },
  {
   "cell_type": "code",
   "execution_count": null,
   "id": "dac1131a",
   "metadata": {},
   "outputs": [],
   "source": [
    "def aspect_ratio_resize(image, width=None, height=None, inter=cv2.INTER_AREA):\n",
    "    dim = None\n",
    "    (h, w) = image.shape[:2]\n",
    "\n",
    "    if width is None and height is None:\n",
    "        return image\n",
    "\n",
    "    if width is None:\n",
    "        r = height / float(h)\n",
    "        dim = (int(w * r), height)\n",
    "        \n",
    "    else:\n",
    "        r = width / float(w)\n",
    "        dim = (width, int(h * r))\n",
    "\n",
    "    return cv2.resize(image, dim, interpolation=inter)\n"
   ]
  },
  {
   "cell_type": "code",
   "execution_count": null,
   "id": "b542f739",
   "metadata": {},
   "outputs": [],
   "source": [
    "new=aspect_ratio_resize(img,800)"
   ]
  },
  {
   "cell_type": "code",
   "execution_count": null,
   "id": "c655bed5",
   "metadata": {},
   "outputs": [],
   "source": [
    "new.shape"
   ]
  },
  {
   "cell_type": "code",
   "execution_count": null,
   "id": "7d7abc25",
   "metadata": {},
   "outputs": [],
   "source": [
    "plt.imshow(new)"
   ]
  },
  {
   "cell_type": "code",
   "execution_count": null,
   "id": "ed77b535",
   "metadata": {},
   "outputs": [],
   "source": []
  },
  {
   "cell_type": "code",
   "execution_count": null,
   "id": "2c33a805",
   "metadata": {},
   "outputs": [],
   "source": [
    "def correct_skew(image, delta=1, limit=5):\n",
    "    def determine_score(arr, angle):\n",
    "        data = inter.rotate(arr, angle, reshape=False, order=0)\n",
    "        histogram = np.sum(data, axis=1, dtype=float)\n",
    "        score = np.sum((histogram[1:] - histogram[:-1]) ** 2, dtype=float)\n",
    "        return histogram, score\n",
    "\n",
    "    gray = cv2.cvtColor(image, cv2.COLOR_BGR2GRAY)\n",
    "    thresh = cv2.threshold(gray, 0, 255, cv2.THRESH_BINARY_INV + cv2.THRESH_OTSU)[1] \n",
    "\n",
    "    scores = []\n",
    "    angles = np.arange(-limit, limit + delta, delta)\n",
    "    for angle in angles:\n",
    "        histogram, score = determine_score(thresh, angle)\n",
    "        scores.append(score)\n",
    "\n",
    "    best_angle = angles[scores.index(max(scores))]\n",
    "\n",
    "    (h, w) = image.shape[:2]\n",
    "    center = (w // 2, h // 2)\n",
    "    M = cv2.getRotationMatrix2D(center, best_angle, 1.0)\n",
    "    rotated = cv2.warpAffine(image, M, (w, h), flags=cv2.INTER_CUBIC, \\\n",
    "          borderMode=cv2.BORDER_REPLICATE)\n",
    "\n",
    "    return best_angle, rotated"
   ]
  },
  {
   "cell_type": "code",
   "execution_count": null,
   "id": "307cfe56",
   "metadata": {},
   "outputs": [],
   "source": [
    "angle, rotated = correct_skew(new)"
   ]
  },
  {
   "cell_type": "code",
   "execution_count": null,
   "id": "8ed14ac9",
   "metadata": {},
   "outputs": [],
   "source": [
    "plt.imshow(rotated)"
   ]
  },
  {
   "cell_type": "code",
   "execution_count": null,
   "id": "d2873423",
   "metadata": {},
   "outputs": [],
   "source": []
  },
  {
   "cell_type": "code",
   "execution_count": null,
   "id": "d66b9787",
   "metadata": {},
   "outputs": [],
   "source": [
    "angle, rotated = correct_skew(img)\n",
    "print(angle)\n"
   ]
  },
  {
   "cell_type": "code",
   "execution_count": null,
   "id": "226d5447",
   "metadata": {},
   "outputs": [],
   "source": []
  },
  {
   "cell_type": "code",
   "execution_count": null,
   "id": "5768eb20",
   "metadata": {},
   "outputs": [],
   "source": []
  }
 ],
 "metadata": {
  "kernelspec": {
   "display_name": "Python 3 (ipykernel)",
   "language": "python",
   "name": "python3"
  },
  "language_info": {
   "codemirror_mode": {
    "name": "ipython",
    "version": 3
   },
   "file_extension": ".py",
   "mimetype": "text/x-python",
   "name": "python",
   "nbconvert_exporter": "python",
   "pygments_lexer": "ipython3",
   "version": "3.9.13"
  }
 },
 "nbformat": 4,
 "nbformat_minor": 5
}
